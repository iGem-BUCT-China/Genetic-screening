{
 "cells": [
  {
   "cell_type": "code",
   "execution_count": null,
   "metadata": {},
   "outputs": [],
   "source": [
    "GSE_Train = \"GSE63990\"\n",
    "target = \"infection_status\" #目标存的列。暂时还都不用改。"
   ]
  },
  {
   "cell_type": "code",
   "execution_count": null,
   "metadata": {},
   "outputs": [],
   "source": [
    "# 各种库导入\n",
    "import numpy as np\n",
    "import pandas as pd\n",
    "import matplotlib.pyplot as plt\n",
    "import seaborn as sns\n",
    "from sklearn import datasets\n",
    "import warnings\n",
    "import GEOparse\n",
    "from sklearn.metrics import roc_curve, auc, precision_recall_curve, confusion_matrix, classification_report, accuracy_score, roc_auc_score\n",
    "from sklearn.model_selection import train_test_split\n",
    "from sklearn.feature_selection import SelectKBest\n",
    "from sklearn.feature_selection import chi2\n",
    "from sklearn.feature_selection import f_classif\n",
    "from sklearn.feature_selection import mutual_info_classif\n",
    "from sklearn.linear_model import LinearRegression, RidgeClassifier, Ridge, Lasso, LassoCV, LogisticRegression\n",
    "from sklearn.svm import SVC, LinearSVC, NuSVC\n",
    "warnings.filterwarnings('ignore')"
   ]
  },
  {
   "cell_type": "code",
   "execution_count": null,
   "metadata": {},
   "outputs": [],
   "source": [
    "# 数据导入 及 预览数据. 输出末2行\n",
    "gse = GEOparse.get_GEO(geo=GSE_Train, destdir=\"./datasets\", silent=True)\n",
    "gpls = gse.metadata['platform_id']\n",
    "gpl = GEOparse.get_GEO(geo=gpls[0], destdir=\"./datasets\", silent=True)\n",
    "gse_csv = pd.read_csv('./datasets/' + GSE_Train + '.csv')\n",
    "gse_csv.tail(2) # 预览数据"
   ]
  },
  {
   "cell_type": "code",
   "execution_count": null,
   "metadata": {},
   "outputs": [],
   "source": [
    "# 选择的模型\n",
    "up_feature =  ['ISG15', 'MX1', 'CD74']\n",
    "up_weight =  [11,  8, 24]\n",
    "up_times = 84694.59808314576\n",
    "up_intercept = -2.8716859\n",
    "up_model = LogisticRegression()\n",
    "down_feature =  ['CD177', 'IL1R2', 'S100A12', 'MMP9']\n",
    "down_weight = [14, 11, 24,  1]\n",
    "down_times = 151481.89222583472\n",
    "down_model = LogisticRegression()\n",
    "down_intercept = -2.84741179\n",
    "\n",
    "# 实际输入的模型\n",
    "feature =  up_feature + down_feature\n",
    "print('feature:', feature)\n",
    "weight = up_weight + (np.array(down_weight) * -1).tolist()\n",
    "print('weight:', weight)"
   ]
  },
  {
   "cell_type": "code",
   "execution_count": null,
   "metadata": {},
   "outputs": [],
   "source": [
    "# 仅选择特征和最终结果. 输出末2行\n",
    "ID = []\n",
    "for i in range(len(feature)):\n",
    "    ID.append(gpl.table[gpl.table['Gene Symbol'] == feature[i]]['ID'].values[0])\n",
    "ID.append(target)\n",
    "ID = np.array(ID).reshape(-1)\n",
    "ID.astype('str')\n",
    "testdata = gse_csv[ID]\n",
    "# 把testdata的columns的名字改成feature\n",
    "testdata.columns = feature + [\"target\"]\n",
    "testdata.tail(2)"
   ]
  },
  {
   "cell_type": "code",
   "execution_count": null,
   "metadata": {},
   "outputs": [],
   "source": [
    "# 计算每一种基因在不同感染情况下的表达量的平均值\n",
    "testdata_mean = testdata.groupby(\"target\").mean()\n",
    "testdata_mean"
   ]
  },
  {
   "cell_type": "code",
   "execution_count": null,
   "metadata": {},
   "outputs": [],
   "source": [
    "# 对平均值都乘以权重\n",
    "testdata_mean_weight = testdata_mean * weight\n",
    "testdata_mean_weight"
   ]
  },
  {
   "cell_type": "code",
   "execution_count": null,
   "metadata": {},
   "outputs": [],
   "source": [
    "# 后面就是画图的部分了。 具体可以看 https://seaborn.pydata.org/tutorial.html\n",
    "# 直接问ai也可以。 比如 https://www.phind.com/\n",
    "# https://seaborn.pydata.org/tutorial/axis_grids.html 比如这个下面的几个例子都可以参考\n",
    "fig, ax = plt.subplots(1,2, figsize=(20, 10)) # 画布大小横为20，纵为10，一共1行2列\n"
   ]
  },
  {
   "cell_type": "code",
   "execution_count": null,
   "metadata": {},
   "outputs": [],
   "source": [
    "data1=testdata_mean.loc[['bacterial','viral']]\n",
    "data2=testdata_mean_weight.loc[['bacterial','viral']]\n",
    "data1.plot.bar(stacked=True,width=0.4)\n",
    "data2.plot.bar(stacked=True,width=0.4,bottom=0)\n",
    "plt.title('')\n",
    "plt.show()"
   ]
  }
 ],
 "metadata": {
  "kernelspec": {
   "display_name": "igem",
   "language": "python",
   "name": "python3"
  },
  "language_info": {
   "codemirror_mode": {
    "name": "ipython",
    "version": 3
   },
   "file_extension": ".py",
   "mimetype": "text/x-python",
   "name": "python",
   "nbconvert_exporter": "python",
   "pygments_lexer": "ipython3",
   "version": "3.8.16"
  },
  "orig_nbformat": 4
 },
 "nbformat": 4,
 "nbformat_minor": 2
}
