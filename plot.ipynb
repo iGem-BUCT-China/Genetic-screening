{
 "cells": [
  {
   "cell_type": "code",
   "execution_count": null,
   "metadata": {},
   "outputs": [],
   "source": [
    "GSE_Train = \"GSE63990\"\n",
    "target = \"infection_status\" #目标存的列。暂时还都不用改。"
   ]
  },
  {
   "cell_type": "code",
   "execution_count": null,
   "metadata": {},
   "outputs": [],
   "source": [
    "# 各种库导入\n",
    "import numpy as np\n",
    "import pandas as pd\n",
    "import matplotlib.pyplot as plt\n",
    "import seaborn as sns\n",
    "from sklearn import datasets\n",
    "import warnings\n",
    "import GEOparse\n",
    "from sklearn.metrics import roc_curve, auc, precision_recall_curve, confusion_matrix, classification_report, accuracy_score, roc_auc_score\n",
    "from sklearn.model_selection import train_test_split\n",
    "from sklearn.feature_selection import SelectKBest\n",
    "from sklearn.feature_selection import chi2\n",
    "from sklearn.feature_selection import f_classif\n",
    "from sklearn.feature_selection import mutual_info_classif\n",
    "from sklearn.linear_model import LinearRegression, RidgeClassifier, Ridge, Lasso, LassoCV, LogisticRegression\n",
    "from sklearn.svm import SVC, LinearSVC, NuSVC\n",
    "warnings.filterwarnings('ignore')"
   ]
  },
  {
   "cell_type": "code",
   "execution_count": null,
   "metadata": {},
   "outputs": [],
   "source": [
    "# 数据导入 及 预览数据. 输出末2行\n",
    "gse = GEOparse.get_GEO(geo=GSE_Train, destdir=\"./datasets\", silent=True)\n",
    "gpls = gse.metadata['platform_id']\n",
    "gpl = GEOparse.get_GEO(geo=gpls[0], destdir=\"./datasets\", silent=True)\n",
    "gse_csv = pd.read_csv('./datasets/' + GSE_Train + '.csv')\n",
    "gse_csv.tail(2) # 预览数据"
   ]
  },
  {
   "cell_type": "code",
   "execution_count": null,
   "metadata": {},
   "outputs": [],
   "source": [
    "# 选择的模型\n",
    "up_feature =  ['ISG15', 'MX1', 'CD74']\t\n",
    "up_weight =  [12, 9, 25]\t\t\n",
    "up_times = 88822.416610\n",
    "up_intercept = -3.835824358628409\n",
    "up_model = LinearRegression()\n",
    "down_feature =  ['CD177', 'IL1R2', 'S100A12', 'MMP9']\n",
    "down_weight = [15, 9, 24, 1]\n",
    "down_times = 876540.757881\n",
    "down_model = LogisticRegression()\n",
    "down_intercept = 0.00400899\n",
    "\n",
    "# 实际输入的模型\n",
    "feature =  up_feature + down_feature\n",
    "print('feature:', feature)\n",
    "weight = up_weight + (np.array(down_weight) * -1).tolist()\n",
    "print('weight:', weight)"
   ]
  },
  {
   "cell_type": "code",
   "execution_count": null,
   "metadata": {},
   "outputs": [],
   "source": [
    "# 仅选择特征和最终结果. 输出末2行\n",
    "ID = []\n",
    "for i in range(len(feature)):\n",
    "    ID.append(gpl.table[gpl.table['Gene Symbol'] == feature[i]]['ID'].values[0])\n",
    "ID.append(target)\n",
    "ID = np.array(ID).reshape(-1)\n",
    "testdata = gse_csv[ID]\n",
    "# 把testdata的columns的名字改成feature\n",
    "testdata.columns = feature + [\"target\"]\n",
    "testdata.tail(2)"
   ]
  },
  {
   "cell_type": "code",
   "execution_count": null,
   "metadata": {},
   "outputs": [],
   "source": [
    "# 计算每一种基因在不同感染情况下的表达量的平均值\n",
    "testdata_mean = testdata.groupby(\"target\").mean()\n",
    "testdata_mean"
   ]
  },
  {
   "cell_type": "code",
   "execution_count": null,
   "metadata": {},
   "outputs": [],
   "source": [
    "# 对平均值都乘以权重\n",
    "testdata_mean_weight = testdata_mean * weight\n",
    "testdata_mean_weight"
   ]
  },
  {
   "cell_type": "code",
   "execution_count": null,
   "metadata": {},
   "outputs": [],
   "source": [
    "up_ID = []\n",
    "for i in range(len(up_feature)):\n",
    "    up_ID.append(gpl.table[gpl.table['Gene Symbol'] == up_feature[i]]['ID'].values[0])\n",
    "up_ID = np.array(up_ID).reshape(-1)\n",
    "up_ID.astype('str')\n",
    "up_testdata = gse_csv[up_ID]\n",
    "up_testdata.columns = up_feature\n",
    "up_testdata_weight = up_testdata * up_weight\n",
    "up_testdata_weight_sum = up_testdata_weight.sum(axis=1)\n",
    "up_testdata_weight_z = up_testdata_weight_sum / up_times + up_intercept\n",
    "up_testdata_weight_score = 1 / (1 + np.exp(-up_testdata_weight_z))"
   ]
  },
  {
   "cell_type": "code",
   "execution_count": null,
   "metadata": {},
   "outputs": [],
   "source": [
    "up_testdata_weight_score"
   ]
  },
  {
   "cell_type": "code",
   "execution_count": null,
   "metadata": {},
   "outputs": [],
   "source": [
    "up_ID = []\n",
    "for i in range(len(up_feature)):\n",
    "    up_ID.append(gpl.table[gpl.table['Gene Symbol'] == up_feature[i]]['ID'].values[0])\n",
    "up_ID = np.array(up_ID).reshape(-1)\n",
    "up_ID.astype('str')\n",
    "up_testdata = gse_csv[up_ID]\n",
    "up_testdata.columns = up_feature\n",
    "up_testdata_weight = up_testdata * up_weight\n",
    "up_testdata_weight_sum = up_testdata_weight.sum(axis=1)\n",
    "up_testdata_weight_z = up_testdata_weight_sum / up_times + up_intercept\n",
    "up_testdata_weight_score = 1 / (1 + np.exp(-up_testdata_weight_z))\n",
    "\n",
    "down_ID = []\n",
    "for i in range(len(down_feature)):\n",
    "    down_ID.append(gpl.table[gpl.table['Gene Symbol'] == down_feature[i]]['ID'].values[0])\n",
    "down_ID = np.array(down_ID).reshape(-1)\n",
    "down_ID.astype('str')\n",
    "down_testdata = gse_csv[down_ID]\n",
    "down_testdata.columns = down_feature\n",
    "down_testdata_weight = down_testdata * down_weight\n",
    "down_testdata_weight_sum = down_testdata_weight.sum(axis=1)\n",
    "down_testdata_weight_score = down_testdata_weight_sum / down_times + down_intercept\n",
    "#down_testdata_weight_score = 1 / (1 + np.exp(-down_testdata_weight_z)) # sigmoid\n",
    "\n",
    "# target\n",
    "target = gse_csv['infection_status']\n",
    "\n",
    "# merge\n",
    "merge = pd.concat([up_testdata_weight_score, down_testdata_weight_score, target], axis=1)\n",
    "merge.columns = ['up', 'down', 'target']\n",
    "\n",
    "# plot the figure\n",
    "# x = up_testdata_weight_with_sum's sum\n",
    "# y = down_testdata_weight_with_sum's sum\n",
    "# color = target\n",
    "\n",
    "\n",
    "# 画图\n",
    "plt.figure(figsize=(10, 10))\n",
    "sns.scatterplot(x='up', y='down', hue='target', data=merge)\n",
    "\n",
    "\n",
    "plt.plot([0, 1], [0, 1], color='red', linewidth=2)\n",
    "# x=0.5, y=0.5的直线\n",
    "plt.plot([0.5, 0.5], [0, 1], color='red', linewidth=2)\n",
    "plt.plot([0, 1], [0.5, 0.5], color='red', linewidth=2)\n",
    "\n",
    "# count the number of points in each area\n",
    "plt.plot([0.5, 0.5], [0, 1], color='red', linewidth=2)\n",
    "plt.plot([0, 1], [0.5, 0.5], color='red', linewidth=2)\n",
    "\n",
    "# count the number of points in each area\n",
    "upright = merge[(merge['up'] >= 0.5) & (merge['down'] >= 0.5)]\n",
    "upleft = merge[(merge['up'] < 0.5) & (merge['down'] >= 0.5)]\n",
    "downright = merge[(merge['up'] >= 0.5) & (merge['down'] < 0.5)]\n",
    "downleft = merge[(merge['up'] < 0.5) & (merge['down'] < 0.5)]\n",
    "\n",
    "# 画出四个区域的点的个数\n",
    "plt.text(0.6, 0.6, upright.shape[0], fontsize=15)\n",
    "plt.text(0.4, 0.6, upleft.shape[0], fontsize=15)\n",
    "plt.text(0.6, 0.4, downright.shape[0], fontsize=15)\n",
    "plt.text(0.4, 0.4, downleft.shape[0], fontsize=15)\n",
    "\n",
    "mark_as_up = merge[(merge['up'] >= merge['down'])]\n",
    "mark_as_down = merge[(merge['up'] < merge['down'])]\n",
    "\n",
    "plt.text(0.8, 0.2, mark_as_up.shape[0], fontsize=15)\n",
    "plt.text(0.2, 0.8, mark_as_down.shape[0], fontsize=15)\n"
   ]
  },
  {
   "cell_type": "code",
   "execution_count": null,
   "metadata": {},
   "outputs": [],
   "source": [
    "# 进行统计\n",
    "# 分为3个区域：左下角，左上角，右下角，其中右上角的点分到左上角和右下角里\n",
    "# 左下角：up和down都小于0.5\n",
    "# 左上角：down大于0.5，且up<down\n",
    "# 右下角：up大于0.5，且up>down\n",
    "\n",
    "type1 = merge[(merge['up'] < 0.5) & (merge['down'] < 0.5)]\n",
    "type2 = merge[(merge['down'] >= 0.5) & (merge['up'] < merge['down'])]\n",
    "type3 = merge[(merge['up'] >= 0.5) & (merge['up'] > merge['down'])]\n",
    "\n",
    "# 他们应该对应的target的值\n",
    "# type1: non-infectious illness\t\n",
    "# type2: bacterial\n",
    "# type3: viral\n",
    "# bacterial 的准确率\n",
    "print('bacterial 的准确率：', type2[type2['target'] == 'bacterial'].shape[0] / merge.shape[0])\n",
    "print('viral 的准确率：', type3[type3['target'] == 'viral'].shape[0] / merge.shape[0])\n",
    "print('non-infectious illness 的准确率：', type1[type1['target'] == 'non-infectious illness'].shape[0] / merge.shape[0])\n",
    "\n",
    "# 那么如果我们只进行二分，y=x的直线左边的点都是bacterial，右边的点都是viral\n",
    "type4 = merge[(merge['up'] < merge['down'])]\n",
    "type5 = merge[(merge['up'] >= merge['down'])]\n",
    "bac_count = merge.groupby('target').count().loc['bacterial', 'up']\n",
    "vir_count = merge.groupby('target').count().loc['viral', 'up']\n",
    "print('bacterial 的准确率：', type4[type4['target'] == 'bacterial'].shape[0] / bac_count)\n",
    "print('viral 的准确率：', type5[type5['target'] == 'viral'].shape[0] / vir_count)"
   ]
  },
  {
   "cell_type": "code",
   "execution_count": null,
   "metadata": {},
   "outputs": [],
   "source": [
    "merge.groupby('target').count()"
   ]
  },
  {
   "cell_type": "code",
   "execution_count": null,
   "metadata": {},
   "outputs": [],
   "source": [
    "# 后面就是画图的部分了。 具体可以看 https://seaborn.pydata.org/tutorial.html\n",
    "# 直接问ai也可以。 比如 https://www.phind.com/\n",
    "# https://seaborn.pydata.org/tutorial/axis_grids.html 比如这个下面的几个例子都可以参考\n",
    "# fig, ax = plt.subplots(1,2, figsize=(20, 10)) # 画布大小横为20，纵为10，一共1行2列\n",
    "# plt.subplots_adjust(wspace=0.5, hspace=0.5) # 调整子图间距\n",
    "\n",
    "# testdata_values_melt = pd.melt(testdata, id_vars=['target'], value_vars=feature) # Only keep randomly 100 rows\n",
    "testdata_values_melt = pd.melt(testdata, id_vars=['target'], value_vars=feature)\n",
    "# Only keep randomly 100 rows\n",
    "testdata_values_melt = testdata_values_melt.sample(n=150, random_state=1)\n",
    "sns.catplot(x=\"variable\", y=\"value\", hue=\"target\", data=testdata_values_melt, ax=ax[0], kind=\"swarm\", # 透明度0.5\n",
    "            palette=\"Set2\", linewidth=1, edgecolor='gray', size=7, aspect=2)"
   ]
  },
  {
   "cell_type": "code",
   "execution_count": null,
   "metadata": {},
   "outputs": [],
   "source": [
    "data1=testdata_mean.loc[['bacterial','viral']]\n",
    "data2=testdata_mean_weight.loc[['bacterial','viral']]\n",
    "data1.plot.bar(stacked=True,width=0.4)\n",
    "data2.plot.bar(stacked=True,width=0.4,bottom=0)\n",
    "plt.title('')\n",
    "plt.show()"
   ]
  }
 ],
 "metadata": {
  "kernelspec": {
   "display_name": "igem",
   "language": "python",
   "name": "python3"
  },
  "language_info": {
   "codemirror_mode": {
    "name": "ipython",
    "version": 3
   },
   "file_extension": ".py",
   "mimetype": "text/x-python",
   "name": "python",
   "nbconvert_exporter": "python",
   "pygments_lexer": "ipython3",
   "version": "3.8.16"
  },
  "orig_nbformat": 4
 },
 "nbformat": 4,
 "nbformat_minor": 2
}
