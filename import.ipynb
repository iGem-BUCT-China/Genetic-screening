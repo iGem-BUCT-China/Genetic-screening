{
 "cells": [
  {
   "attachments": {},
   "cell_type": "markdown",
   "metadata": {},
   "source": [
    "# 这个文件是下载并导入的文件"
   ]
  },
  {
   "cell_type": "code",
   "execution_count": null,
   "metadata": {},
   "outputs": [],
   "source": [
    "import GEOparse\n",
    "import datetime"
   ]
  },
  {
   "cell_type": "code",
   "execution_count": null,
   "metadata": {},
   "outputs": [],
   "source": [
    "GEONAME = 'GSE63990'\n",
    "# GSE63990  Profiling of bacterial respiratory infection, viral respiratory infection, and non-infectious illness\n",
    "# GSE6269   Gene expression patterns in blood leukocytes discriminate patients with acute infections\n"
   ]
  },
  {
   "cell_type": "code",
   "execution_count": null,
   "metadata": {},
   "outputs": [],
   "source": [
    "gse = GEOparse.get_GEO(geo=GEONAME, destdir=\"./datasets\", silent=True)"
   ]
  },
  {
   "cell_type": "code",
   "execution_count": null,
   "metadata": {},
   "outputs": [],
   "source": [
    "gse.get_metadata_attribute(\"title\")"
   ]
  },
  {
   "cell_type": "code",
   "execution_count": null,
   "metadata": {},
   "outputs": [],
   "source": [
    "# 先把一个个样本的Value值提取出来，然后再转置，这样就可以得到一个样本对应的所有基因的表达值。\n",
    "sample_value = gse.pivot_samples('VALUE').T\n",
    "sample_value.tail()"
   ]
  },
  {
   "cell_type": "code",
   "execution_count": null,
   "metadata": {},
   "outputs": [],
   "source": [
    "value_desc = []\n",
    "Value_Types = [\n",
    "    'MAS5-calculated Signal intensity',\n",
    "    'RMA normalized and Log2 transformed'\n",
    "]\n",
    "infection = []\n",
    "n = 0\n",
    "# value = [] we want 2-d dataframe\n",
    "import pandas as pd\n",
    "value = pd.DataFrame()\n",
    "for i in gse.gsms:\n",
    "    n += 1\n",
    "\n",
    "\n",
    "    # 感染状态的处理\n",
    "    characteristics_ch1 = gse.gsms[i].metadata['characteristics_ch1']   # the infection_status is in the characteristics_ch1\n",
    "    infection_status = characteristics_ch1[-1].split(':')[1].strip()            # 但characteristics_ch1有的有两个值，有的有三个，取最后一个\n",
    "    infection.append(infection_status)\n",
    "    \n",
    "    # 对数等的处理\n",
    "    value_type = value_desc.append(gse.gsms[i].columns[\"description\"][1])\n",
    "    if gse.gsms[i].columns[\"description\"][1] == 'RMA normalized and Log2 transformed':\n",
    "        # 将sample_value 里第 n 行的每一个值转化为2的x次方\n",
    "        value = pd.concat([value, 2**sample_value.iloc[n-1]], axis=1)\n",
    "        # same line as above\n",
    "    else:\n",
    "        print(gse.gsms[i].columns[\"description\"][1])\n",
    "        print('Now just use the raw value')\n",
    "        print('Samples: ', sample_value.iloc[n-1].head())\n",
    "        print('-'*50)\n",
    "        value = pd.concat([value, sample_value.iloc[n-1]], axis=1)\n",
    "\n",
    "    # Value中的\n",
    "\n",
    "value = value.T\n",
    "\n",
    "# merge the infection status and value\n",
    "value.insert(0, 'infection_status', infection)\n",
    "\n",
    "value.head()"
   ]
  },
  {
   "cell_type": "code",
   "execution_count": null,
   "metadata": {},
   "outputs": [],
   "source": [
    "# Save the data and Show the first 5 rows\n",
    "value.to_csv('./datasets/' + GEONAME + '.csv', index=False)\n",
    "value.head()"
   ]
  },
  {
   "attachments": {},
   "cell_type": "markdown",
   "metadata": {},
   "source": [
    "## 不用了"
   ]
  },
  {
   "attachments": {},
   "cell_type": "markdown",
   "metadata": {},
   "source": [
    "不清楚什么时候再把这个id转化成通用的Gene Symbol。\n",
    "\n",
    "可能在这里就转，也可以分析结束了再转。\n",
    "\n",
    "大概需要10分钟"
   ]
  },
  {
   "cell_type": "code",
   "execution_count": null,
   "metadata": {},
   "outputs": [],
   "source": [
    "# GPL571 = gse.gpls['GPL571']\n",
    "# n = 0\n",
    "# for rows in sample_value:\n",
    "#     Gene_Symbol = GPL571.table[GPL571.table['ID'] == rows]['Gene Symbol']\n",
    "#     if Gene_Symbol.empty:\n",
    "#         Gene_Symbol[0] = rows\n",
    "#     sample_value.rename(columns={rows: Gene_Symbol.values[0]}, inplace=True)\n",
    "#     n += 1\n",
    "#     if n % 100 == 0:\n",
    "#         print(\"Finished %d rows of %d at %s\" % (n, sample_value.shape[1], datetime.datetime.now()))\n",
    "# sample_value.tail()"
   ]
  },
  {
   "cell_type": "code",
   "execution_count": null,
   "metadata": {},
   "outputs": [],
   "source": [
    "# gse.gpls['GPL571'].table.columns # GPL571, 也就是这个GEO数据集的平台，的列。\n",
    "# # 从这个平台可以直接读取Gene Symbol，Target Description等等有用的东西。"
   ]
  },
  {
   "cell_type": "code",
   "execution_count": null,
   "metadata": {},
   "outputs": [],
   "source": [
    "# gse.gpls['GPL571'].table.head() # 前5行"
   ]
  }
 ],
 "metadata": {
  "kernelspec": {
   "display_name": "igem",
   "language": "python",
   "name": "python3"
  },
  "language_info": {
   "codemirror_mode": {
    "name": "ipython",
    "version": 3
   },
   "file_extension": ".py",
   "mimetype": "text/x-python",
   "name": "python",
   "nbconvert_exporter": "python",
   "pygments_lexer": "ipython3",
   "version": "3.8.16"
  },
  "orig_nbformat": 4
 },
 "nbformat": 4,
 "nbformat_minor": 2
}
