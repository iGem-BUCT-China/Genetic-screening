{
 "cells": [
  {
   "cell_type": "code",
   "execution_count": 1,
   "metadata": {},
   "outputs": [],
   "source": [
    "# 设置数据集名称\n",
    "dataset_name = ['LUAD']\n",
    "# 设置俩： ['LUAD', 'LUSC']\n",
    "# 单一个： ['LUAD'] \n",
    "method = 'normal' # diff是上面俩数据集的差异，normal是和正常样本的差异\n",
    "# method = 'diff'"
   ]
  },
  {
   "cell_type": "code",
   "execution_count": 2,
   "metadata": {},
   "outputs": [],
   "source": [
    "import requests\n",
    "import os\n",
    "import gzip\n",
    "import shutil\n",
    "import pandas as pd\n",
    "import numpy as np\n",
    "import matplotlib.pyplot as plt\n",
    "from collections import defaultdict\n",
    "import seaborn as sns\n",
    "from sklearn import datasets\n",
    "import warnings\n",
    "import GEOparse\n",
    "from typing import Tuple, List\n",
    "from sklearn.metrics import roc_curve, auc, precision_recall_curve, confusion_matrix, ConfusionMatrixDisplay\n",
    "from imblearn.over_sampling import SMOTE\n",
    "sm = SMOTE(random_state=42)\n",
    "from multiprocessing import Pool, cpu_count\n",
    "import ast\n",
    "from sklearn.model_selection import train_test_split\n",
    "from sklearn.feature_selection import SelectKBest\n",
    "from sklearn.feature_selection import chi2\n",
    "from sklearn.feature_selection import f_classif\n",
    "from sklearn.feature_selection import mutual_info_classif\n",
    "from sklearn.linear_model import LinearRegression, RidgeClassifier, Lasso, LassoCV, LogisticRegression, LogisticRegressionCV, ElasticNet,ElasticNetCV,SGDClassifier,RidgeClassifierCV\n",
    "from sklearn.svm import SVC, LinearSVC, NuSVC\n",
    "warnings.filterwarnings('ignore')"
   ]
  },
  {
   "cell_type": "code",
   "execution_count": 3,
   "metadata": {},
   "outputs": [],
   "source": [
    "def download_and_parse_data(dataset_name):\n",
    "    pkl_file_path = './datasets/' + 'TCGA-' + dataset_name + '.mirna_transposed.pkl'\n",
    "    if os.path.exists(pkl_file_path):\n",
    "        df_t = pd.read_pickle(pkl_file_path)\n",
    "    else:\n",
    "        url = \"https://gdc-hub.s3.us-east-1.amazonaws.com/download/TCGA-\" + dataset_name + \".mirna.tsv.gz\"\n",
    "        response = requests.get(url)\n",
    "        os.makedirs('./datasets', exist_ok=True)\n",
    "        gz_file_path = './datasets/' + 'TCGA-' + dataset_name + '.mirna.tsv.gz'\n",
    "        with open(gz_file_path, 'wb') as f_out:\n",
    "            f_out.write(response.content)\n",
    "        tsv_file_path = './datasets/' + 'TCGA-' + dataset_name + '.mirna.tsv'\n",
    "        with gzip.open(gz_file_path, 'rb') as f_in:\n",
    "            with open(tsv_file_path, 'wb') as f_out:\n",
    "                shutil.copyfileobj(f_in, f_out)\n",
    "        df = pd.read_csv(tsv_file_path, sep='\\t')\n",
    "        df_t = df.transpose()\n",
    "        df_t.columns = df_t.iloc[0]\n",
    "        df_t = df_t.drop(df_t.index[0])\n",
    "        df_t = np.power(2, df_t) - 1\n",
    "        df_t = df_t.round(4)\n",
    "        df_t['Status'] = df_t.index.map(lambda x: 1 if x.split('-')[3][:2] == '01' else 0)\n",
    "        df_t = df_t[['Status'] + [col for col in df_t.columns if col != 'Status']]\n",
    "        df_t.to_pickle(pkl_file_path)\n",
    "        os.remove(gz_file_path)\n",
    "        os.remove(tsv_file_path)\n",
    "    df_t = df_t.apply(pd.to_numeric)\n",
    "    return df_t\n",
    "\n",
    "def find_healthy_samples(df):\n",
    "    healthy_samples_df = df[df['Status'] == 0]\n",
    "    return healthy_samples_df\n",
    "\n",
    "if method == \"diff\":\n",
    "    dataA = download_and_parse_data(dataset_name[0])\n",
    "    dataB = download_and_parse_data(dataset_name[1])\n",
    "\n",
    "    A_up = dataA[dataA['Status'] == 1]\n",
    "    B_up = dataB[dataB['Status'] == 1]\n",
    "\n",
    "    B_up['Status'] = 0\n",
    "    df_transposed = pd.concat([A_up, B_up], ignore_index=True)\n",
    "elif method == \"normal\":\n",
    "    df_transposed = pd.DataFrame()\n",
    "    for name in dataset_name:\n",
    "        df_transposed = df_transposed.append(download_and_parse_data(name))\n",
    "train_data = df_transposed.apply(pd.to_numeric)\n",
    "# # split data into train and test sets\n",
    "# X_train, X_test, y_train, y_test = train_test_split(train_data.drop(['Status'], axis=1), train_data['Status'], test_size=0.2, random_state=42)\n",
    "# # combine test data\n",
    "# train_data = pd.concat([X_test, y_test], axis=1)"
   ]
  },
  {
   "cell_type": "code",
   "execution_count": 4,
   "metadata": {},
   "outputs": [
    {
     "name": "stdout",
     "output_type": "stream",
     "text": [
      "feature: ['hsa-mir-192', 'hsa-mir-182', 'hsa-mir-21', 'hsa-mir-148a', 'hsa-mir-375', 'hsa-let-7a-2', 'hsa-let-7b', 'hsa-mir-30a', 'hsa-mir-143']\n",
      "weight: [1.0, 4.0, 3.0, 10.0, 2.0, -25.0, -8.0, -5.0, -5.0]\n"
     ]
    }
   ],
   "source": [
    "# 选择的模型\n",
    "# 实际输入的模型\n",
    "feature =  ['hsa-mir-192', 'hsa-mir-182', 'hsa-mir-21', 'hsa-mir-148a', 'hsa-mir-375', 'hsa-let-7a-2', 'hsa-let-7b', 'hsa-mir-30a', 'hsa-mir-143']\n",
    "print('feature:', feature)\n",
    "weight = [1.0, 4.0, 3.0, 10.0, 2.0, -25.0, -8.0, -5.0, -5.0]\n",
    "print('weight:', weight)\n",
    "times = 4209968.46118903\n",
    "instances = 0.695806376191662"
   ]
  },
  {
   "cell_type": "code",
   "execution_count": 5,
   "metadata": {},
   "outputs": [],
   "source": [
    "mean = train_data.groupby(\"Status\").mean()\n",
    "\n",
    "# mean only keep which in feature\n",
    "mean = mean[feature]"
   ]
  },
  {
   "cell_type": "code",
   "execution_count": 6,
   "metadata": {},
   "outputs": [
    {
     "data": {
      "image/png": "[encoded data removed]",
      "text/plain": [
       "<Figure size 640x480 with 1 Axes>"
      ]
     },
     "metadata": {
      "needs_background": "dark"
     },
     "output_type": "display_data"
    }
   ],
   "source": [
    "times = mean.iloc[0] / mean.iloc[1]\n",
    "times = pd.concat([times, mean.T], axis=1)\n",
    "times.columns = ['times', '0', '1']\n",
    "# if 0 and 1 are both 0, then remove the row\n",
    "times = times[times['times'] > 0]\n",
    "# and not infinity\n",
    "times = times[times['times'] < 100000]\n",
    "times = times[times['0'] > 1]\n",
    "times = times[times['1'] > 1]\n",
    "# sort by times\n",
    "times = times.sort_values(by=['times'], ascending=False)\n",
    "times = pd.concat([times.head(30), times.tail(30)])\n",
    "fig, ax = plt.subplots()\n",
    "ax.bar(times.index, times['1'], color='#eec740')\n",
    "ax.bar(times.index, -times['0'], color='#419dcc')\n",
    "# background color\n",
    "# ax.set_facecolor('#142235')\n",
    "# 外部透明\n",
    "fig.patch.set_alpha(0)\n",
    "# 标注字体颜色白色\n",
    "ax.tick_params(colors='white')\n",
    "# 内部透明\n",
    "ax.patch.set_alpha(0)\n",
    "# 线框颜色 白色\n",
    "ax.spines['bottom'].set_color('white')\n",
    "ax.spines['top'].set_color('white')\n",
    "ax.spines['left'].set_color('white')\n",
    "ax.spines['right'].set_color('white')\n",
    "\n",
    "# log scale\n",
    "# ax.set_yscale('symlog')\n",
    "# 文字方向\n",
    "plt.xticks(rotation=90)\n",
    "# 导出图片为svg\n",
    "fig.savefig('./output/' + '-'.join(dataset_name) + '.svg', transparent=True)\n",
    "# show image\n",
    "plt.show()"
   ]
  }
 ],
 "metadata": {
  "kernelspec": {
   "display_name": "igem",
   "language": "python",
   "name": "python3"
  },
  "language_info": {
   "codemirror_mode": {
    "name": "ipython",
    "version": 3
   },
   "file_extension": ".py",
   "mimetype": "text/x-python",
   "name": "python",
   "nbconvert_exporter": "python",
   "pygments_lexer": "ipython3",
   "version": "3.8.16"
  },
  "orig_nbformat": 4
 },
 "nbformat": 4,
 "nbformat_minor": 2
}
