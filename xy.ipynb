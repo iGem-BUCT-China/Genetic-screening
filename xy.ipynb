{
 "cells": [
  {
   "attachments": {},
   "cell_type": "markdown",
   "metadata": {},
   "source": [
    "# 准备"
   ]
  },
  {
   "attachments": {},
   "cell_type": "markdown",
   "metadata": {},
   "source": [
    "## 基础设置"
   ]
  },
  {
   "cell_type": "code",
   "execution_count": null,
   "metadata": {},
   "outputs": [],
   "source": [
    "GSE_Train = \"GSE63990\" # 用于训练的数据集\n",
    "Skip_Paint = False # 是否绘制不必要的绘图\n"
   ]
  },
  {
   "attachments": {},
   "cell_type": "markdown",
   "metadata": {},
   "source": [
    "## 库 导入"
   ]
  },
  {
   "cell_type": "code",
   "execution_count": null,
   "metadata": {},
   "outputs": [],
   "source": [
    "import numpy as np\n",
    "import pandas as pd\n",
    "import matplotlib.pyplot as plt\n",
    "import seaborn as sns\n",
    "from sklearn import datasets\n",
    "import warnings\n",
    "import GEOparse\n",
    "from sklearn.metrics import roc_curve, auc, precision_recall_curve, confusion_matrix, classification_report, accuracy_score, roc_auc_score\n",
    "warnings.filterwarnings('ignore')"
   ]
  },
  {
   "cell_type": "code",
   "execution_count": null,
   "metadata": {},
   "outputs": [],
   "source": [
    "from sklearn.model_selection import train_test_split\n",
    "from sklearn.feature_selection import SelectKBest\n",
    "from sklearn.feature_selection import chi2\n",
    "from sklearn.feature_selection import f_classif\n",
    "from sklearn.feature_selection import mutual_info_classif\n",
    "from sklearn.linear_model import LinearRegression, RidgeClassifier, Ridge, Lasso, LassoCV, LogisticRegression\n",
    "from sklearn.svm import SVC, LinearSVC, NuSVC"
   ]
  },
  {
   "attachments": {},
   "cell_type": "markdown",
   "metadata": {},
   "source": [
    "## 数据 导入"
   ]
  },
  {
   "cell_type": "code",
   "execution_count": null,
   "metadata": {},
   "outputs": [],
   "source": [
    "GPL571 = GEOparse.get_GEO(geo=\"GPL571\", destdir=\"./datasets\", silent=True)"
   ]
  },
  {
   "cell_type": "code",
   "execution_count": null,
   "metadata": {},
   "outputs": [],
   "source": [
    "gse = GEOparse.get_GEO(geo=GSE_Train, destdir=\"./datasets\", silent=True)\n",
    "gpls = gse.metadata['platform_id']\n",
    "gpl = GEOparse.get_GEO(geo=gpls[0], destdir=\"./datasets\", silent=True)\n",
    "gse_csv = pd.read_csv('./datasets/' + GSE_Train + '.csv')\n",
    "gse_csv.head() # 预览数据"
   ]
  },
  {
   "cell_type": "code",
   "execution_count": null,
   "metadata": {},
   "outputs": [],
   "source": [
    "gse_csv.isnull().sum() "
   ]
  },
  {
   "cell_type": "code",
   "execution_count": null,
   "metadata": {},
   "outputs": [],
   "source": [
    "gse_csv['infection_status'].value_counts() # 看一下感染这个列的分布"
   ]
  },
  {
   "attachments": {},
   "cell_type": "markdown",
   "metadata": {},
   "source": [
    "## 函数 准备"
   ]
  },
  {
   "cell_type": "code",
   "execution_count": null,
   "metadata": {},
   "outputs": [],
   "source": [
    "def is_prime_factors_only(n, allowed_factors):\n",
    "    for factor in allowed_factors:\n",
    "        while n % factor == 0:\n",
    "            n //= factor\n",
    "    return n == 1\n",
    "\n",
    "def get_allowed_numbers(max_n=25,allowed_factors=[2,3,5]):\n",
    "    result = []\n",
    "    for i in range(1, max_n + 1):\n",
    "        if is_prime_factors_only(i, allowed_factors):\n",
    "            result.append(i)\n",
    "    return result\n",
    "\n",
    "def is_all_in_list(list,n=25,allowed_factors=[2,3,5]):\n",
    "    for i in list:\n",
    "        if i not in get_allowed_numbers(n,allowed_factors):\n",
    "            return False\n",
    "    return list"
   ]
  },
  {
   "cell_type": "code",
   "execution_count": null,
   "metadata": {},
   "outputs": [],
   "source": [
    "def plot_score_distribution(ax, y_score, final_target):                                 # 这个函数负责处理分数分布图这一个小图\n",
    "    ax.scatter(range(len(y_score)), y_score, c=final_target, cmap='bwr', alpha=0.5)     # 画散点图，x轴是样本序号，y轴是分数，颜色是感染情况，颜色映射是蓝白红，透明度是0.5\n",
    "                                                                                        # x是样本序号：分开画，免得都黏在一起了，透明度的设置是一样的原因。\n",
    "    ax.set_title('分数分布图')\n",
    "    ax.set_xlabel('样本序号')\n",
    "    ax.set_ylabel('分数')\n",
    "    plt.rcParams['font.sans-serif']=['SimHei']                                          # 中文乱码\n",
    "    plt.rcParams['axes.unicode_minus']=False                                            # 负号乱码\n",
    "    labels = ['细菌感染', '病毒感染']                                                   # 图例标签，这里是感染情况，以后如果换了的话得改。 #todo 将这个改为传入参数\n",
    "    ax.legend(labels, loc='upper right')                                                # 图例\n",
    "    ax.plot([0, len(y_score)], [0.5, 0.5], color='black', lw=1, linestyle='--')         # 以0.5为界，画一条虚线，表示分数大于0.5的是细菌感染，小于0.5的是病毒感染，这个以后也得改\n",
    "                                                                                        # 因为不同的模型（如linear regression 和 ridge regression）的判断标准不一样，所以这个界限也不一样。\n",
    "                                                                                        # 现在的做法是直接在y_score 上做手脚，还是……蛮不优雅的，但是先这样吧。\n",
    "                                                                                        # todo 将这个改为传入参数\n",
    "\n",
    "def plot_roc_curve(ax, y_score, final_target):\n",
    "    fpr, tpr, thresholds = roc_curve(final_target, y_score)\n",
    "    roc_auc = auc(fpr, tpr)\n",
    "    ax.plot(fpr, tpr, color='darkorange', lw=2, label='ROC curve (area = %0.2f)' % roc_auc)\n",
    "    ax.plot([0, 1], [0, 1], color='navy', lw=2, linestyle='--')\n",
    "    ax.set_xlabel('False Positive Rate 假阳性率')\n",
    "    ax.set_ylabel('True Positive Rate 真阳性率')\n",
    "    ax.set_title('ROC 曲线（受试者工作特征曲线）')\n",
    "    ax.legend(loc=\"lower right\")\n",
    "\n",
    "def plot_pr_curve(ax, y_score, final_target):\n",
    "    precision, recall, thresholds = precision_recall_curve(final_target, y_score)\n",
    "    ax.plot(recall, precision, color='darkorange', lw=2, label='PR curve')\n",
    "    ax.set_xlabel('Recall 召回率')\n",
    "    ax.set_ylabel('Precision 准确率')\n",
    "    ax.set_title('PR 曲线（准确率-召回率曲线）')\n",
    "    ax.set_xlim([0.0, 1.0])\n",
    "    ax.set_ylim([0.0, 1.05])\n",
    "    ax.legend(loc=\"lower left\")\n",
    "\n",
    "def plot_confusion_matrix(ax, y_score, final_target):\n",
    "    y_pred = np.where(y_score > 0.5, 1, 0)\n",
    "    cnf_matrix = confusion_matrix(final_target, y_pred)\n",
    "    ax.imshow(cnf_matrix, interpolation='nearest',cmap=plt.cm.Blues)\n",
    "    ax.set_title('Confusion Matrix 混淆矩阵')\n",
    "    tick_marks = np.arange(2)\n",
    "    plt.xticks(tick_marks, ['病毒感染', '细菌感染'], rotation=45)\n",
    "    plt.yticks(tick_marks, ['病毒感染', '细菌感染'])\n",
    "    thresh = cnf_matrix.max() / 2.\n",
    "    for i in range(cnf_matrix.shape[0]):\n",
    "        for j in range(cnf_matrix.shape[1]):\n",
    "            plt.text(j, i, cnf_matrix[i, j],horizontalalignment=\"center\",color=\"white\" if cnf_matrix[i, j] > thresh else \"black\",fontsize=20)\n",
    "    plt.tight_layout()\n",
    "    plt.ylabel('True label 感染情况')\n",
    "    plt.xlabel('Predicted label 预测情况')\n",
    "\n",
    "def plot_all(score, target, title=\"分数分布图、ROC曲线、PR曲线和混淆矩阵\", feature=None, weight=None):\n",
    "    fig, axs = plt.subplots(2, 2, figsize=(12, 12))                                                     # 规定画布大小为1200*1200px，分成2*2的4个小图\n",
    "    fig.suptitle(title, fontsize=16)                                                                    # 设置标题\n",
    "    plot_score_distribution(axs[0,0], score, target)                                                    # 第一个小图（左上角）是分数分布图 这里的axs[0,0]是指第一行第一列的小图，注意计数是从0开始的。\n",
    "    plot_roc_curve(axs[0,1], score, target)                                                             # 第二个小图（右上角）是ROC曲线\n",
    "    plot_pr_curve(axs[1,0], score, target)                                                              # 第三个小图（左下角）是PR曲线\n",
    "    plot_confusion_matrix(axs[1,1], score, target)                                                      # 第四个小图（右下角）是混淆矩阵\n",
    "    if feature or weight:                                                                               # 如果有feature或者weight的话，就在图的下方加上文字\n",
    "        try:\n",
    "            # add margin at bottom\n",
    "            fig.subplots_adjust(bottom=0.12)                                                            # 调整图的下边距，这样文字就不会挡住图了\n",
    "            # add feature and weight at the bottom\n",
    "            fig.text(0.5, 0.04, '使用feature:'+str(feature), ha='center', va='bottom', fontsize=12)     # 在图的下方加上文字，这里的0.5,0.04是指文字的位置，ha='center'是指文字居中，va='bottom'是指文字在底部，fontsize=12是指文字大小\n",
    "            fig.text(0.5, 0.02, '对应权重:'+str(weight), ha='center', va='bottom', fontsize=8)          # 同上\n",
    "        except:\n",
    "            pass                                                                                        # 如果出错了就算了\n",
    "    return fig, axs\n",
    "\n",
    "def testfeature(feature,weight,data,gpl=gpl,title=\"分数分布图、ROC曲线、PR曲线和混淆矩阵\"):\n",
    "    ID = []\n",
    "    for i in range(len(feature)):\n",
    "        ID.append(gpl.table[gpl.table['Gene Symbol'] == feature[i]]['ID'].values[0])\n",
    "    ID = np.array(ID).reshape(-1)\n",
    "    testdata = data[ID]\n",
    "    n = len(testdata)\n",
    "    y_score = np.zeros(n)\n",
    "    y_pred = np.zeros(n)\n",
    "    for i in range(len(testdata)):\n",
    "        y_score [i] = np.dot(testdata.iloc[i],weight)\n",
    "        y_pred [i] = np.where(y_score[i] > 0.5, 1, 0)\n",
    "    try:\n",
    "        target = data['infection_status'].values\n",
    "    except:\n",
    "        target = gse_csv['infection_status']\n",
    "    acc = accuracy_score(target, y_pred)\n",
    "    print(\"Accuracy: \", acc)\n",
    "    fig, axs = plot_all(y_score, target, title, feature=feature, weight=weight)\n",
    "\n",
    "def testfeaturewithtimes(feature,weight,data,times=1,gpl=gpl,title=\"分数分布图、ROC曲线、PR曲线和混淆矩阵\"):\n",
    "    ID = []\n",
    "    for i in range(len(feature)):\n",
    "        ID.append(gpl.table[gpl.table['Gene Symbol'] == feature[i]]['ID'].values[0])\n",
    "    ID = np.array(ID).reshape(-1)\n",
    "    testdata = data[ID]\n",
    "    n = len(testdata)\n",
    "    y_score = np.zeros(n)\n",
    "    y_pred = np.zeros(n)\n",
    "    for i in range(len(testdata)):\n",
    "        y_score [i] = np.dot(testdata.iloc[i],weight)\n",
    "        # 结果除以times\n",
    "        y_score [i] = y_score [i] / times\n",
    "        y_pred [i] = np.where(y_score[i] > 0.5, 1, 0)\n",
    "    try:\n",
    "        target = data['infection_status'].values\n",
    "    except:\n",
    "        target = gse_csv['infection_status']\n",
    "    acc = accuracy_score(target, y_pred)\n",
    "    print(\"Accuracy: \", acc)\n",
    "    fig, axs = plot_all(y_score, target, title, feature=feature, weight=weight)\n",
    "\n",
    "def testfeaturewithtimesandtarget(feature,weight,data,target,times=1,gpl=gpl,title=\"分数分布图、ROC曲线、PR曲线和混淆矩阵\"):\n",
    "    ID = []\n",
    "    for i in range(len(feature)):\n",
    "        ID.append(gpl.table[gpl.table['Gene Symbol'] == feature[i]]['ID'].values[0])\n",
    "    ID = np.array(ID).reshape(-1)\n",
    "    testdata = data[ID]\n",
    "    n = len(testdata)\n",
    "    y_score = np.zeros(n)\n",
    "    y_pred = np.zeros(n)\n",
    "    for i in range(len(testdata)):\n",
    "        y_score [i] = np.dot(testdata.iloc[i],weight)\n",
    "        # 结果除以times\n",
    "        y_score [i] = y_score [i] / times\n",
    "        y_pred [i] = np.where(y_score[i] > 0.5, 1, 0)\n",
    "    acc = accuracy_score(target, y_pred)\n",
    "    print(\"Accuracy: \", acc)\n",
    "    fig, axs = plot_all(y_score, target, title, feature=feature, weight=weight)\n"
   ]
  },
  {
   "cell_type": "code",
   "execution_count": null,
   "metadata": {},
   "outputs": [],
   "source": [
    "def find_best_n(ax,X_train, y_train, X_test, y_test, method, model, max_features=20):\n",
    "    train_acc,test_acc,train_roc,test_roc = [],[],[],[]\n",
    "    for i in range(1, max_features):\n",
    "        # reselect the features\n",
    "        reselect = SelectKBest(score_func=method, k=i)\n",
    "        reselect.fit(X_train, y_train)\n",
    "        model.fit(X_train.iloc[:, reselect.get_support(indices=True)], y_train) # use the selected features to train the data\n",
    "        y_pred = model.predict(X_test.iloc[:, reselect.get_support(indices=True)])\n",
    "        train_acc.append(model.score(X_train.iloc[:, reselect.get_support(indices=True)], y_train))\n",
    "        test_acc.append(model.score(X_test.iloc[:, reselect.get_support(indices=True)], y_test))\n",
    "        train_roc.append(roc_auc_score(y_train, model.predict(X_train.iloc[:, reselect.get_support(indices=True)])))\n",
    "        test_roc.append(roc_auc_score(y_test, model.predict(X_test.iloc[:, reselect.get_support(indices=True)])))\n",
    "    # ax.plot(range(1, max_features), train_acc, label='train_acc')\n",
    "    ax.plot(range(1, max_features), test_acc, label='test_acc')\n",
    "    # ax.plot(range(1, max_features), train_roc, label='train_roc')\n",
    "    ax.plot(range(1, max_features), test_roc, label='test_roc')\n",
    "    ax.set_title('使用'+str(model) + '和' + method.__name__ + '选择特征')\n",
    "    plt.rcParams['font.sans-serif'] = ['SimHei']\n",
    "    ax.legend()\n",
    "    # grid\n",
    "    ax.grid()\n",
    "    # mark the maximum value\n",
    "    ax.scatter(test_acc.index(max(test_acc)) + 1, max(test_acc), marker='o', color='b')\n",
    "    ax.text(test_acc.index(max(test_acc)) + 1, max(test_acc), str(test_acc.index(max(test_acc)) + 1) + ', ' + str('%.2f%%' % (max(test_acc) * 100)))\n",
    "    ax.scatter(test_roc.index(max(test_roc)) + 1, max(test_roc), marker='o', color='r')\n",
    "    ax.text(test_roc.index(max(test_roc)) + 1, max(test_roc), str(test_roc.index(max(test_roc)) + 1) + ', ' + str('%.2f%%' % (max(test_roc) * 100)))\n",
    "    # y is 0.5 to 1\n",
    "    ax.set_ylim(0.5, 1)\n",
    "\n",
    "    select = SelectKBest(score_func=method, k=test_acc.index(max(test_acc)) + 1).fit(X_train, y_train)\n",
    "    X_train_new = select.transform(X_train)\n",
    "    X_test_new = select.transform(X_test)\n",
    "    model.fit(X_train_new, y_train)\n",
    "    y_pred = model.predict(X_test_new)\n",
    "    # print('使用' + str(model) + '和' + method.__name__ + '选择特征后的准确率为：', model.score(X_test_new, y_test))\n",
    "    # print('使用' + str(model) + '和' + method.__name__ + '选择特征后的AUC为：', roc_auc_score(y_test, y_pred))\n",
    "    # # print('使用' + str(model) + '和' + method.__name__ + '选择特征后的权重为：', model.coef_)\n",
    "    # print('使用' + str(model) + '和' + method.__name__ + '选择特征后的截距为：', model.intercept_)\n",
    "    # get column names\n",
    "    gene_id = X_train.columns[select.get_support(indices=True)]\n",
    "    gene_symbol = [gpl.table[gpl.table['ID'] == i]['Gene Symbol'].values[0] for i in gene_id]\n",
    "    # print('使用' + str(model) + '和' + method.__name__ + '选择特征后的特征为：', gene_symbol)\n",
    "    # print('使用' + str(model) + '和' + method.__name__ + '选择特征后的特征权重为：', model.coef_)\n",
    "    \n",
    "    n = test_acc.index(max(test_acc)) + 1\n",
    "    best_acc = max(test_acc)\n",
    "\n",
    "    return best_acc, n, gene_symbol, model.coef_\n"
   ]
  },
  {
   "cell_type": "code",
   "execution_count": null,
   "metadata": {},
   "outputs": [],
   "source": [
    "def find_best_n(ax,X_train, y_train, X_test, y_test, method, model, max_features=20):\n",
    "    train_acc,test_acc,train_roc,test_roc = [],[],[],[]\n",
    "    for i in range(1, max_features):\n",
    "        if method == 'mannual':\n",
    "            reselect = X_train.iloc[:, :i]\n",
    "            model.fit(reselect, y_train) # use the selected features to train the data\n",
    "            y_pred = model.predict(X_test.iloc[:, :i])\n",
    "            train_acc.append(model.score(reselect, y_train))\n",
    "            test_acc.append(model.score(X_test.iloc[:, :i], y_test))\n",
    "            train_roc.append(roc_auc_score(y_train, model.predict(reselect)))\n",
    "            test_roc.append(roc_auc_score(y_test, model.predict(X_test.iloc[:, :i])))\n",
    "        else:\n",
    "            reselect = SelectKBest(score_func=method, k=i)\n",
    "            reselect.fit(X_train, y_train)\n",
    "            model.fit(X_train.iloc[:, reselect.get_support(indices=True)], y_train) # use the selected features to train the data\n",
    "            y_pred = model.predict(X_test.iloc[:, reselect.get_support(indices=True)])\n",
    "            train_acc.append(model.score(X_train.iloc[:, reselect.get_support(indices=True)], y_train))\n",
    "            test_acc.append(model.score(X_test.iloc[:, reselect.get_support(indices=True)], y_test))\n",
    "            train_roc.append(roc_auc_score(y_train, model.predict(X_train.iloc[:, reselect.get_support(indices=True)])))\n",
    "            test_roc.append(roc_auc_score(y_test, model.predict(X_test.iloc[:, reselect.get_support(indices=True)])))\n",
    "    # ax.plot(range(1, max_features), train_acc, label='train_acc')\n",
    "    ax.plot(range(1, max_features), test_acc, label='test_acc')\n",
    "    # ax.plot(range(1, max_features), train_roc, label='train_roc')\n",
    "    ax.plot(range(1, max_features), test_roc, label='test_roc')\n",
    "    if method == 'mannual':\n",
    "        ax.set_title('使用'+str(model) + '按照表达比选择特征')\n",
    "    else:\n",
    "        ax.set_title('使用'+str(model) + '和' + method.__name__ + '选择特征')\n",
    "    plt.rcParams['font.sans-serif'] = ['SimHei']\n",
    "    ax.legend()\n",
    "    # grid\n",
    "    ax.grid()\n",
    "    # mark the maximum value\n",
    "    ax.scatter(test_acc.index(max(test_acc)) + 1, max(test_acc), marker='o', color='b')\n",
    "    ax.text(test_acc.index(max(test_acc)) + 1, max(test_acc), str(test_acc.index(max(test_acc)) + 1) + ', ' + str('%.2f%%' % (max(test_acc) * 100)))\n",
    "    ax.scatter(test_roc.index(max(test_roc)) + 1, max(test_roc), marker='o', color='r')\n",
    "    ax.text(test_roc.index(max(test_roc)) + 1, max(test_roc), str(test_roc.index(max(test_roc)) + 1) + ', ' + str('%.2f%%' % (max(test_roc) * 100)))\n",
    "    # y is 0.5 to 1\n",
    "    ax.set_ylim(0.5, 1)\n",
    "\n",
    "    if method != 'mannual':\n",
    "        select = SelectKBest(score_func=method, k=test_acc.index(max(test_acc)) + 1).fit(X_train, y_train)\n",
    "        X_train_new = select.transform(X_train)\n",
    "        X_test_new = select.transform(X_test)\n",
    "        model.fit(X_train_new, y_train)\n",
    "        y_pred = model.predict(X_test_new)\n",
    "        gene_id = X_train.columns[select.get_support(indices=True)]\n",
    "    else:\n",
    "        X_train_new = X_train.iloc[:, :test_acc.index(max(test_acc)) + 1]\n",
    "        X_test_new = X_test.iloc[:, :test_acc.index(max(test_acc)) + 1]\n",
    "        model.fit(X_train_new, y_train)\n",
    "        y_pred = model.predict(X_test_new)\n",
    "        gene_id = X_train_new.columns\n",
    "    gene_symbol = [gpl.table[gpl.table['ID'] == i]['Gene Symbol'].values[0] for i in gene_id]\n",
    "    # print('使用' + str(model) + '和' + method.__name__ + '选择特征后的特征为：', gene_symbol)\n",
    "    # print('使用' + str(model) + '和' + method.__name__ + '选择特征后的特征权重为：', model.coef_)\n",
    "    \n",
    "    n = test_acc.index(max(test_acc)) + 1\n",
    "    best_acc = max(test_acc)\n",
    "\n",
    "    return best_acc, n, gene_symbol, model.coef_\n"
   ]
  },
  {
   "cell_type": "code",
   "execution_count": null,
   "metadata": {},
   "outputs": [],
   "source": [
    "def predict(model, X, time=None):\n",
    "    # if not coef: The truth value of an array with more than one element is ambiguous. Use a.any() or a.all()\n",
    "    if time is not None:\n",
    "        coef = model.coef_.ravel() * time\n",
    "        coef = np.round(coef)\n",
    "        time = float(time)\n",
    "    else:\n",
    "        time = 1\n",
    "        time = float(time)\n",
    "        coef = model.coef_.ravel()\n",
    "    if model.__class__.__name__ == 'LinearRegression':\n",
    "        y_pred = float(np.dot(X, coef))/time + model.intercept_ \n",
    "    elif model.__class__.__name__ == 'RidgeClassifier':\n",
    "        y_pred = np.dot(X, coef)/time + model.intercept_ + 0.5# 以0为分界（？\n",
    "    elif model.__class__.__name__ == 'LogisticRegression':\n",
    "        z = np.dot(X, coef)/time + model.intercept_\n",
    "        y_pred = 1 / (1 + np.exp(-z))\n",
    "        # y_pred = np.dot(X, model.coef_.ravel()) + model.intercept_\n",
    "    elif model.__class__.__name__ == 'LinearSVC':\n",
    "        y_pred = np.dot(X, coef)/time + model.intercept_\n",
    "    elif model.__class__.__name__ == 'NuSVC':\n",
    "        y_pred = np.dot(X, coef) / time + model.intercept_ + 0.5 # 以0为分界（？\n",
    "    else:\n",
    "        y_pred = model.predict(X)\n",
    "    return y_pred"
   ]
  },
  {
   "cell_type": "code",
   "execution_count": null,
   "metadata": {},
   "outputs": [],
   "source": [
    "def cal_score(feature, weight, times, data, model, intercept):\n",
    "    score = []\n",
    "    indexs = []\n",
    "    for i in range(len(feature)):\n",
    "        id = gpl.table[gpl.table['Gene Symbol'] == feature[i]]['ID'].values[0]\n",
    "        index = data.columns.get_loc(id)\n",
    "        indexs.append(index)\n",
    "    for i in range(len(data)):\n",
    "        # if model is in LinearRegression, LinearSVC\n",
    "        if model == model.__class__.__name__ == 'LinearRegression' or model.__class__.__name__ == 'LinearSVC':  \n",
    "            score.append(\n",
    "                np.dot(\n",
    "                    data.iloc[i, indexs].values,weight\n",
    "                    )/times\n",
    "                )\n",
    "        elif model == model.__class__.__name__ == 'RidgeClassifier' or model.__class__.__name__ == 'NuSVC':  \n",
    "            score.append(\n",
    "                np.dot(\n",
    "                    data.iloc[i, indexs].values,weight\n",
    "                    )/times + 0.5\n",
    "                )\n",
    "        elif model == model.__class__.__name__ == 'LogisticRegression':\n",
    "            z = np.dot(\n",
    "                data.iloc[i, indexs].values,weight\n",
    "            )/times  + intercept\n",
    "            \n",
    "            score.append(1/(1+np.exp(-z)))\n",
    "        else:\n",
    "            z = np.dot(\n",
    "                data.iloc[i, indexs].values,weight\n",
    "            )/times  + intercept\n",
    "            score.append(1 / (1 + np.exp(-z)))\n",
    "\n",
    "    return score"
   ]
  },
  {
   "cell_type": "code",
   "execution_count": null,
   "metadata": {},
   "outputs": [],
   "source": [
    "def test_method(select_method, model, n_feature, X_train, X_test, y_train, y_test):\n",
    "    success = False\n",
    "    reselect = SelectKBest(score_func=select_method, k=n_feature)\n",
    "    reselect.fit(X_train, y_train)\n",
    "    X_train_new = reselect.transform(X_train)\n",
    "    X_test_new = reselect.transform(X_test)\n",
    "    model.fit(X_train_new, y_train)\n",
    "    y_score= predict(model, X_test_new)\n",
    "    y_pred = model.predict(X_test_new)\n",
    "    model_acc = np.mean(np.equal(y_pred, y_test))\n",
    "    print('使用 ' + select_method.__name__ + ' 选择特征和 ' + str(model) + ' 训练模型，准确率为', '%.2f%%' % (model_acc * 100))\n",
    "    title = '使用' + select_method.__class__.__name__ + '选择' + str(n_feature) + '个特征的' + model.__class__.__name__ + '的直接运算的预测结果'\n",
    "    gene_id = X_train.columns[reselect.get_support(indices=True)]\n",
    "    feature = [gpl.table[gpl.table['ID'] == i]['Gene Symbol'].values[0] for i in gene_id]\n",
    "    coef = model.coef_\n",
    "\n",
    "    print('截距：', model.intercept_ , ' 选出基因： ', feature)\n",
    "\n",
    "    times = np.logspace(1, 8, num=500, base=10)\n",
    "    accs = []\n",
    "    good_coef = []\n",
    "    for time in times:\n",
    "        y_score = predict(model, X_test_new, time)\n",
    "        y_pred = np.array([1 if i > 0.5 else 0 for i in y_score], dtype=int)\n",
    "        accs.append(np.mean(y_pred == y_test))\n",
    "        if np.mean(y_pred == y_test) == model_acc:\n",
    "            coef_rounded = np.round(coef.ravel() * time).tolist()\n",
    "            coef_rounded = [int(i) for i in coef_rounded]\n",
    "            if is_all_in_list(coef_rounded) and coef_rounded not in good_coef:\n",
    "                print('coef =', coef_rounded,'time =', time)\n",
    "                good_coef.append(coef_rounded)\n",
    "                success = True\n",
    "        else:\n",
    "            pass\n",
    "    plot_all(\n",
    "        score = y_score,\n",
    "        target = y_test,\n",
    "        title = title,\n",
    "        feature = feature,\n",
    "        weight = model.coef_.ravel())\n",
    "    plt.show()\n",
    "\n",
    "    plt.plot(times, accs)\n",
    "    plt.xlabel('times')\n",
    "    plt.ylabel('accuracy')\n",
    "    plt.title('Relationship between times and accuracy')\n",
    "    plt.xscale('log')\n",
    "    plt.show()\n",
    "\n",
    "    coef = model.coef_\n",
    "\n",
    "    return coef, reselect"
   ]
  },
  {
   "cell_type": "code",
   "execution_count": null,
   "metadata": {},
   "outputs": [],
   "source": [
    "def plot_boxplot(data_higher, gpl, gse_csv, data_higher_times):\n",
    "    fig, ax = plt.subplots(1,50, figsize=(50,15))\n",
    "    for i in range(50):\n",
    "        sns.boxplot(\n",
    "            x='infection_status', \n",
    "            y=data_higher.iloc[:,i],\n",
    "            data=gse_csv,\n",
    "            ax=ax[i],\n",
    "            )\n",
    "        ax[i].set_title(gpl.table[gpl.table['ID'] == data_higher.columns[i]]['Gene Symbol'].values[0])\n",
    "\n",
    "        # 最上面加上对应的倍数\n",
    "        ax[i].text(0.1, 0.98,\n",
    "                   str('%.2f' % data_higher_times[i]),\n",
    "                   transform=ax[i].transAxes,\n",
    "                   fontsize=16,\n",
    "                   verticalalignment='top',\n",
    "                   bbox=dict(boxstyle='round', facecolor='white', alpha=0.5))\n",
    "\n",
    "        # 显示优化\n",
    "        ax[i].set_yscale('log') #对数坐标\n",
    "        ax[i].set_ylim(10, 40000) # y轴的范围\n",
    "        if i != 0: # 不显示x，y轴的标签， 不然太挤了没意义\n",
    "            ax[i].set_xlabel('')\n",
    "            ax[i].set_yticklabels([])\n",
    "            ax[i].set_ylabel('')\n",
    "            ax[i].set_yticks([])\n",
    "        else:\n",
    "            ax[i].set_xlabel('')\n",
    "            ax[i].set_ylabel('表达量')\n",
    "        ax[i].tick_params(axis='x', rotation=90) # 不然画不下\n",
    "    plt.show()"
   ]
  },
  {
   "cell_type": "code",
   "execution_count": null,
   "metadata": {},
   "outputs": [],
   "source": [
    "def get_higher_columns(data):\n",
    "    data_mean = data.groupby('target').mean()\n",
    "    higher_columns = []\n",
    "    higher_times = []\n",
    "    for i in range(data_mean.shape[1]):\n",
    "        if data_mean.iloc[1,i] > 2*data_mean.iloc[0,i]:\n",
    "            higher_columns.append(data_mean.columns[i])\n",
    "            higher_times.append(data_mean.iloc[1,i]/data_mean.iloc[0,i])\n",
    "    return higher_columns, higher_times"
   ]
  },
  {
   "cell_type": "code",
   "execution_count": null,
   "metadata": {},
   "outputs": [],
   "source": [
    "def sort_higher_columns(data, higher_columns, higher_times):\n",
    "    # sort the columns and times together\n",
    "    data_higher_times, data_higher_columns = zip(*sorted(zip(higher_times, higher_columns), reverse=True))\n",
    "    # convert data_higher_columns to list\n",
    "    data_higher_columns = list(data_higher_columns)\n",
    "    # add target column to the top of data_higher_columns\n",
    "    data_higher_columns.append('target')\n",
    "    data_higher_columns.append('infection_status')\n",
    "    # get the new data\n",
    "    data_higher = data[data_higher_columns]\n",
    "    return data_higher, data_higher_times"
   ]
  },
  {
   "cell_type": "code",
   "execution_count": null,
   "metadata": {},
   "outputs": [],
   "source": [
    "def print_best_acc(test_acc, n, gene_symbol, coef):\n",
    "    best_acc = max(test_acc)\n",
    "    best_i = 0\n",
    "    i = 0\n",
    "    print('最好的准确率为：', best_acc)\n",
    "    for acc in test_acc:\n",
    "        if acc == best_acc:\n",
    "            print('='*60)\n",
    "            print('对应的特征数为：', n[i],'方法为：', methods[i // len(models)].__name__,'特征为：', gene_symbol[i])\n",
    "            print('模型为：', models[i % len(models)],'特征权重为：', coef[i])\n",
    "            weights_avg = np.mean(coef[i])\n",
    "            new_coefs = []\n",
    "            for j in range(len(coef[i])):\n",
    "                # new_coefs.append(10*(coef[i][j]/weights_avg)) 保留2位小数\n",
    "                # new_coefs.append(round(10*(coef[i][j]/weights_avg), 2)) type numpy.ndarray doesn't define __round__ method\n",
    "                new_coefs.append(np.round(10*(coef[i][j]/weights_avg), 2))\n",
    "            print('比例大致为：', new_coefs)\n",
    "        i += 1"
   ]
  },
  {
   "attachments": {},
   "cell_type": "markdown",
   "metadata": {},
   "source": [
    "# 训练"
   ]
  },
  {
   "attachments": {},
   "cell_type": "markdown",
   "metadata": {},
   "source": [
    "## 病毒"
   ]
  },
  {
   "attachments": {},
   "cell_type": "markdown",
   "metadata": {},
   "source": [
    "### 分开病毒与未感染"
   ]
  },
  {
   "cell_type": "code",
   "execution_count": null,
   "metadata": {},
   "outputs": [],
   "source": [
    "# 病毒与未感染的鉴别\n",
    "viral_data = gse_csv[gse_csv['infection_status'].isin(['viral', 'non-infectious illness', 'bacterial'])]\n",
    "viral_data['target'] = viral_data['infection_status'].map({'viral': 1, 'non-infectious illness': 0, 'bacterial': 0})\n",
    "X_train, X_test, y_train, y_test = train_test_split(viral_data.drop(['infection_status'], axis=1), viral_data['infection_status'], test_size=0.2, random_state=0)"
   ]
  },
  {
   "attachments": {},
   "cell_type": "markdown",
   "metadata": {},
   "source": [
    "### 筛选出 病毒感染中表达量大于等于2倍的非病毒感染表达量的基因"
   ]
  },
  {
   "cell_type": "code",
   "execution_count": null,
   "metadata": {},
   "outputs": [],
   "source": [
    "higher_columns, higher_times = get_higher_columns(viral_data)"
   ]
  },
  {
   "attachments": {},
   "cell_type": "markdown",
   "metadata": {},
   "source": [
    "根据倍率不同进行排序"
   ]
  },
  {
   "cell_type": "code",
   "execution_count": null,
   "metadata": {},
   "outputs": [],
   "source": [
    "data_higher, data_higher_times = sort_higher_columns(viral_data, higher_columns, higher_times)\n",
    "X_train, X_test, y_train, y_test = train_test_split(data_higher.drop(['infection_status','target'], axis=1), data_higher['target'], test_size=0.2, random_state=0)"
   ]
  },
  {
   "attachments": {},
   "cell_type": "markdown",
   "metadata": {},
   "source": [
    "使用 boxplot 对排序后的基因画图，选了前50个"
   ]
  },
  {
   "cell_type": "code",
   "execution_count": null,
   "metadata": {},
   "outputs": [],
   "source": [
    "if Skip_Paint:\n",
    "    plot_boxplot(data_higher, gpl, gse_csv, data_higher_times)"
   ]
  },
  {
   "attachments": {},
   "cell_type": "markdown",
   "metadata": {},
   "source": [
    "### 训练不同的模型，使用不同的特征选择方法，选择出特征后，使用不同的方法来训练模型"
   ]
  },
  {
   "cell_type": "code",
   "execution_count": null,
   "metadata": {},
   "outputs": [],
   "source": [
    "methods = [chi2, f_classif, mutual_info_classif,'mannual']\n",
    "models = [\n",
    "    # https://scikit-learn.org/stable/modules/linear_model.html\n",
    "    LinearRegression(\n",
    "        positive=True\n",
    "    ),                              # 普通 的 非负\n",
    "    RidgeClassifier(\n",
    "    ),                              # 是最小二乘法的正则化版本，明显快于例如 LogisticRegression，该分类器有时称为具有线性内核的最小二乘支持向量机\n",
    "    LogisticRegression(\n",
    "    ),                              # 逻辑回归\n",
    "    Lasso(\n",
    "        positive=True\n",
    "    ),                              # 稀疏的 非负\n",
    "    # SVC(\n",
    "    #     kernel='linear',\n",
    "    #     class_weight='balanced'\n",
    "    # ),                            # 超级超级超级慢 一次5~6分钟\n",
    "    LinearSVC(\n",
    "        \n",
    "    ),\n",
    "    NuSVC(\n",
    "        kernel='linear'\n",
    "    )\n",
    "]\n",
    "# methods = [chi2]\n",
    "# models = [LinearRegression()]\n",
    "fig, axs = plt.subplots(len(methods), len(models), figsize=(6*len(models), 4*len(methods)))\n",
    "test_accs = []\n",
    "best_n = []\n",
    "rocs = []\n",
    "gene_symbols = []\n",
    "coefs = []\n",
    "for method in methods:\n",
    "    for model in models:\n",
    "        # find_best_n(axs[methods.index(method), models.index(model)], X_train, y_train, X_test, y_test, method, model, max_features=6)\n",
    "        test_acc, n, gene_symbol, coef = find_best_n(\n",
    "            axs[methods.index(method), models.index(model)], \n",
    "            X_train, y_train, X_test, y_test, \n",
    "            method, \n",
    "            model, \n",
    "            max_features=9)\n",
    "        test_accs.append(test_acc)\n",
    "        best_n.append(n)\n",
    "        gene_symbols.append(gene_symbol)\n",
    "        coefs.append(coef)\n",
    "plt.show()"
   ]
  },
  {
   "attachments": {},
   "cell_type": "markdown",
   "metadata": {},
   "source": [
    "获取上面训练的结果 —— 筛选出上面的表中表现的较好的方法"
   ]
  },
  {
   "cell_type": "code",
   "execution_count": null,
   "metadata": {},
   "outputs": [],
   "source": [
    "print_best_acc(test_accs, best_n, gene_symbols, coefs)"
   ]
  },
  {
   "cell_type": "code",
   "execution_count": null,
   "metadata": {},
   "outputs": [],
   "source": [
    "coef, reselect = test_method(\n",
    "    chi2, \n",
    "    LogisticRegression(),\n",
    "    3, \n",
    "    X_train, X_test, y_train, y_test)"
   ]
  },
  {
   "attachments": {},
   "cell_type": "markdown",
   "metadata": {},
   "source": [
    "## 细菌"
   ]
  },
  {
   "cell_type": "code",
   "execution_count": null,
   "metadata": {},
   "outputs": [],
   "source": [
    "# 病毒与未感染的鉴别\n",
    "bacterial_data = gse_csv[gse_csv['infection_status'].isin(['viral', 'non-infectious illness', 'bacterial'])]\n",
    "bacterial_data['target'] = bacterial_data['infection_status'].map({'bacterial': 1, 'non-infectious illness': 0, 'viral': 0})\n",
    "X_train, X_test, y_train, y_test = train_test_split(bacterial_data.drop(['infection_status'], axis=1), bacterial_data['infection_status'], test_size=0.2, random_state=0)\n",
    "bacterial_data['infection_status'].value_counts()"
   ]
  },
  {
   "cell_type": "code",
   "execution_count": null,
   "metadata": {},
   "outputs": [],
   "source": [
    "higher_columns, higher_times = get_higher_columns(bacterial_data)"
   ]
  },
  {
   "cell_type": "code",
   "execution_count": null,
   "metadata": {},
   "outputs": [],
   "source": [
    "data_higher, data_higher_times = sort_higher_columns(bacterial_data, higher_columns, higher_times)\n",
    "X_train, X_test, y_train, y_test = train_test_split(data_higher.drop(['infection_status','target'], axis=1), data_higher['target'], test_size=0.2, random_state=0)"
   ]
  },
  {
   "cell_type": "code",
   "execution_count": null,
   "metadata": {},
   "outputs": [],
   "source": [
    "if Skip_Paint:\n",
    "    plot_boxplot(data_higher, gpl, gse_csv, data_higher_times)"
   ]
  },
  {
   "attachments": {},
   "cell_type": "markdown",
   "metadata": {},
   "source": [
    "选"
   ]
  },
  {
   "cell_type": "code",
   "execution_count": null,
   "metadata": {},
   "outputs": [],
   "source": [
    "methods = [chi2, f_classif, mutual_info_classif,'mannual']\n",
    "models = [\n",
    "    # https://scikit-learn.org/stable/modules/linear_model.html\n",
    "    LinearRegression(\n",
    "        positive=True\n",
    "    ),                              # 普通最小二乘法 的 非负\n",
    "    Lasso(\n",
    "        positive=True\n",
    "    ),                              # 稀疏的 非负\n",
    "    RidgeClassifier(\n",
    "        # alpha=1\n",
    "    ),                              # 是最小二乘法的正则化版本，明显快于例如 LogisticRegression，该分类器有时称为具有线性内核的最小二乘支持向量机\n",
    "    LogisticRegression(\n",
    "        # penalty='l2',\n",
    "        # C=1\n",
    "    ),                              # 逻辑回归\n",
    "    # SVC(\n",
    "    #     kernel='linear',\n",
    "    #     class_weight='balanced'\n",
    "    # ),                            # 超级超级超级慢\n",
    "    LinearSVC(\n",
    "        \n",
    "    ),\n",
    "    NuSVC(\n",
    "        kernel='linear'\n",
    "    )\n",
    "]\n",
    "# methods = [chi2]\n",
    "# models = [LinearRegression()]\n",
    "fig, axs = plt.subplots(len(methods), len(models), figsize=(6*len(models), 4*len(methods)))\n",
    "test_accs = []\n",
    "best_n = []\n",
    "rocs = []\n",
    "gene_symbols = []\n",
    "coefs = []\n",
    "for method in methods:\n",
    "    for model in models:\n",
    "        # find_best_n(axs[methods.index(method), models.index(model)], X_train, y_train, X_test, y_test, method, model, max_features=6)\n",
    "        test_acc, n, gene_symbol, coef = find_best_n(\n",
    "            axs[methods.index(method), models.index(model)], \n",
    "            X_train, y_train, X_test, y_test, \n",
    "            method, \n",
    "            model, \n",
    "            max_features=10)\n",
    "        test_accs.append(test_acc)\n",
    "        best_n.append(n)\n",
    "        gene_symbols.append(gene_symbol)\n",
    "        coefs.append(coef)\n",
    "plt.show()"
   ]
  },
  {
   "cell_type": "code",
   "execution_count": null,
   "metadata": {},
   "outputs": [],
   "source": [
    "print_best_acc(test_accs, best_n, gene_symbols, coefs)"
   ]
  },
  {
   "cell_type": "code",
   "execution_count": null,
   "metadata": {},
   "outputs": [],
   "source": [
    "coef, reselect = test_method(\n",
    "    chi2, \n",
    "    LogisticRegression(),\n",
    "    4, \n",
    "    X_train, X_test, y_train, y_test)"
   ]
  },
  {
   "attachments": {},
   "cell_type": "markdown",
   "metadata": {},
   "source": [
    "# 测试"
   ]
  },
  {
   "cell_type": "code",
   "execution_count": null,
   "metadata": {},
   "outputs": [],
   "source": [
    "viral_feature =  ['ISG15', 'MX1', 'CD74']\n",
    "viral_weight =  [11,  8, 24]\n",
    "viral_times = 84694.59808314576\n",
    "viral_intercept = -2.8716859\n",
    "viral_model = LogisticRegression()\n",
    "bacterial_feature =  ['CD177', 'IL1R2', 'S100A12', 'MMP9']\n",
    "bacterial_weight = [14, 11, 24,  1]\n",
    "bacterial_times = 151481.89222583472\n",
    "bacterial_model = LogisticRegression()\n",
    "bacterial_intercept = -2.84741179"
   ]
  },
  {
   "cell_type": "code",
   "execution_count": null,
   "metadata": {},
   "outputs": [],
   "source": [
    "from matplotlib import patches\n",
    "\n",
    "\n",
    "viral_score = cal_score(viral_feature, viral_weight,viral_times, gse_csv, viral_model, viral_intercept)\n",
    "bacterial_score = cal_score(bacterial_feature, bacterial_weight,bacterial_times, gse_csv, bacterial_model, bacterial_intercept)\n",
    "y = gse_csv['infection_status'].map({'viral': 1, 'non-infectious illness': 0, 'bacterial': 2})\n",
    "\n",
    "fig, ax = plt.subplots( 1,1, figsize=(10,10))\n",
    "ax.scatter(\n",
    "    viral_score,\n",
    "    bacterial_score,\n",
    "    c=y,\n",
    "    alpha=0.6\n",
    ")\n",
    "ax.set_xlabel('viral_score')\n",
    "ax.set_ylabel('bacterial_score')\n",
    "\n",
    "# 比例尺保持一致\n",
    "ax.set_aspect('equal')\n",
    "\n",
    "# 表明不同颜色意义\n",
    "ax.legend(\n",
    "    handles=[\n",
    "        patches.Patch(color='green', label='病毒'),\n",
    "        patches.Patch(color='purple', label='非感染'),\n",
    "        patches.Patch(color='yellow', label='细菌')\n",
    "    ]\n",
    ")\n",
    "\n",
    "# 画y=x\n",
    "ax.plot(\n",
    "    [0, 1], [0, 1],\n",
    "    transform=ax.transAxes,\n",
    "    ls=\"--\",\n",
    "    c=\".3\"\n",
    ")"
   ]
  },
  {
   "cell_type": "code",
   "execution_count": null,
   "metadata": {},
   "outputs": [],
   "source": [
    "test_data = gse_csv[gse_csv['infection_status'].isin(['viral', 'bacterial'])]\n",
    "test_data['target'] = test_data['infection_status'].map({'viral': 1, 'bacterial': 0})\n",
    "\n",
    "viral_score = cal_score(viral_feature, viral_weight,viral_times, test_data, viral_model, viral_intercept)\n",
    "bacterial_score = cal_score(bacterial_feature, bacterial_weight,bacterial_times, test_data, bacterial_model, bacterial_intercept)\n",
    "\n",
    "# score is  viral_score - bacterial_score + 0.5\n",
    "# viral_score,  bacterial_score and score are list.\n",
    "score = np.array(viral_score) - np.array(bacterial_score) + 0.5\n",
    "\n",
    "feature = viral_feature + bacterial_feature\n",
    "weight = viral_weight + (np.array(bacterial_weight) * -1).tolist()\n",
    "\n",
    "plot_all(\n",
    "    score, \n",
    "    test_data['target'],\n",
    "    title=\"分数分布图、ROC曲线、PR曲线和混淆矩阵\",\n",
    "    feature=feature,\n",
    "    weight=weight\n",
    ")"
   ]
  }
 ],
 "metadata": {
  "kernelspec": {
   "display_name": "igem",
   "language": "python",
   "name": "python3"
  },
  "language_info": {
   "codemirror_mode": {
    "name": "ipython",
    "version": 3
   },
   "file_extension": ".py",
   "mimetype": "text/x-python",
   "name": "python",
   "nbconvert_exporter": "python",
   "pygments_lexer": "ipython3",
   "version": "3.8.16"
  },
  "orig_nbformat": 4
 },
 "nbformat": 4,
 "nbformat_minor": 2
}
