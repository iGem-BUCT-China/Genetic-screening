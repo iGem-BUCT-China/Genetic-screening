{
 "cells": [
  {
   "cell_type": "markdown",
   "metadata": {},
   "source": [
    "# 变量设置"
   ]
  },
  {
   "cell_type": "code",
   "execution_count": null,
   "metadata": {},
   "outputs": [],
   "source": [
    "# 设置数据集名称\n",
    "dataset_name = 'TCGA-LUSC'"
   ]
  },
  {
   "cell_type": "markdown",
   "metadata": {},
   "source": [
    "# 数据导入"
   ]
  },
  {
   "cell_type": "markdown",
   "metadata": {},
   "source": [
    "## 库"
   ]
  },
  {
   "cell_type": "code",
   "execution_count": null,
   "metadata": {},
   "outputs": [],
   "source": [
    "import requests\n",
    "import os\n",
    "import gzip\n",
    "import shutil\n",
    "import pandas as pd\n",
    "import numpy as np"
   ]
  },
  {
   "cell_type": "code",
   "execution_count": 10,
   "metadata": {},
   "outputs": [],
   "source": [
    "# 检查.pkl文件是否已经存在\n",
    "pkl_file_path = './datasets/' + dataset_name + '.mirna_transposed.pkl'\n",
    "if not os.path.exists(pkl_file_path):\n",
    "    # 下载文件\n",
    "    url = \"https://gdc-hub.s3.us-east-1.amazonaws.com/download/\" + dataset_name + \".mirna.tsv.gz\"\n",
    "    response = requests.get(url)\n",
    "\n",
    "    # 确保目标文件夹存在\n",
    "    os.makedirs('./datasets', exist_ok=True)\n",
    "\n",
    "    # 保存.gz文件\n",
    "    gz_file_path = './datasets/' + dataset_name + '.mirna.tsv.gz'\n",
    "    with open(gz_file_path, 'wb') as f_out:\n",
    "        f_out.write(response.content)\n",
    "\n",
    "    # 解压.gz文件\n",
    "    tsv_file_path = './datasets/' + dataset_name + '.mirna.tsv'\n",
    "    with gzip.open(gz_file_path, 'rb') as f_in:\n",
    "        with open(tsv_file_path, 'wb') as f_out:\n",
    "            shutil.copyfileobj(f_in, f_out)\n",
    "\n",
    "    # 读取.tsv文件并转置\n",
    "    df = pd.read_csv(tsv_file_path, sep='\\t')\n",
    "    df_transposed = df.transpose()\n",
    "\n",
    "    # 使用第一行作为列名\n",
    "    df_transposed.columns = df_transposed.iloc[0]\n",
    "    df_transposed = df_transposed.drop(df_transposed.index[0])\n",
    "\n",
    "    # 还原数据并保持四位有效数字\n",
    "    df_transposed = np.power(2, df_transposed) - 1\n",
    "    df_transposed = df_transposed.round(4)\n",
    "\n",
    "    # 添加癌症状态列并将其移动到最左边\n",
    "    df_transposed['Status'] = df_transposed.index.map(lambda x: 1 if x.split('-')[3][:2] == '01' else 0)\n",
    "    df_transposed = df_transposed[['Status'] + [col for col in df_transposed.columns if col != 'Status']]\n",
    "\n",
    "    # 保存转置后的数据为.pkl文件\n",
    "    df_transposed.to_pickle(pkl_file_path)\n",
    "\n",
    "    # 删除原始的.gz和.tsv文件\n",
    "    os.remove(gz_file_path)\n",
    "    os.remove(tsv_file_path)\n"
   ]
  }
 ],
 "metadata": {
  "kernelspec": {
   "display_name": "igem",
   "language": "python",
   "name": "python3"
  },
  "language_info": {
   "codemirror_mode": {
    "name": "ipython",
    "version": 3
   },
   "file_extension": ".py",
   "mimetype": "text/x-python",
   "name": "python",
   "nbconvert_exporter": "python",
   "pygments_lexer": "ipython3",
   "version": "3.8.16"
  },
  "orig_nbformat": 4
 },
 "nbformat": 4,
 "nbformat_minor": 2
}
