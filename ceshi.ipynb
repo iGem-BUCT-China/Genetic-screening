{
 "cells": [
  {
   "cell_type": "code",
   "execution_count": 1,
   "metadata": {},
   "outputs": [
    {
     "name": "stdout",
     "output_type": "stream",
     "text": [
      "Geatpy version: 2.7.0\n",
      "Sample population (X):\n",
      "[[0.64813014 0.44053918]\n",
      " [0.76993967 0.5741794 ]\n",
      " [0.15663846 0.12920581]\n",
      " [0.34500172 0.88012888]\n",
      " [0.81884285 0.34488468]\n",
      " [0.17640377 0.0545218 ]\n",
      " [0.0990498  0.09939967]\n",
      " [0.55221605 0.29269714]\n",
      " [0.06710793 0.03596951]\n",
      " [0.36478296 0.56244876]]\n"
     ]
    }
   ],
   "source": [
    "import geatpy as ea\n",
    "import numpy as np\n",
    "\n",
    "print(f\"Geatpy version: {ea.__version__}\")\n",
    "X = np.random.rand(10, 2)\n",
    "print(\"Sample population (X):\")\n",
    "print(X)\n",
    "\n",
    "\n"
   ]
  }
 ],
 "metadata": {
  "kernelspec": {
   "display_name": "Python 3",
   "language": "python",
   "name": "python3"
  },
  "language_info": {
   "codemirror_mode": {
    "name": "ipython",
    "version": 3
   },
   "file_extension": ".py",
   "mimetype": "text/x-python",
   "name": "python",
   "nbconvert_exporter": "python",
   "pygments_lexer": "ipython3",
   "version": "3.10.15"
  }
 },
 "nbformat": 4,
 "nbformat_minor": 2
}
